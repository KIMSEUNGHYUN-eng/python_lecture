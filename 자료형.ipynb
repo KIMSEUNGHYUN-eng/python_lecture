{
 "cells": [
  {
   "cell_type": "code",
   "execution_count": 1,
   "id": "80f9e50b",
   "metadata": {
    "ExecuteTime": {
     "end_time": "2021-05-25T00:37:54.217770Z",
     "start_time": "2021-05-25T00:37:54.214769Z"
    }
   },
   "outputs": [],
   "source": [
    "a = True\n",
    "b= False"
   ]
  },
  {
   "cell_type": "code",
   "execution_count": 2,
   "id": "5a0a6278",
   "metadata": {
    "ExecuteTime": {
     "end_time": "2021-05-25T00:38:30.201490Z",
     "start_time": "2021-05-25T00:38:30.182501Z"
    }
   },
   "outputs": [
    {
     "name": "stdout",
     "output_type": "stream",
     "text": [
      "<class 'bool'>\n"
     ]
    }
   ],
   "source": [
    "print(type(a))"
   ]
  },
  {
   "cell_type": "code",
   "execution_count": 3,
   "id": "f4fbaae0",
   "metadata": {
    "ExecuteTime": {
     "end_time": "2021-05-25T00:39:39.388950Z",
     "start_time": "2021-05-25T00:39:39.370980Z"
    }
   },
   "outputs": [
    {
     "data": {
      "text/plain": [
       "True"
      ]
     },
     "execution_count": 3,
     "metadata": {},
     "output_type": "execute_result"
    }
   ],
   "source": [
    "1== 1"
   ]
  },
  {
   "cell_type": "code",
   "execution_count": 4,
   "id": "f5d552a2",
   "metadata": {
    "ExecuteTime": {
     "end_time": "2021-05-25T00:40:16.201445Z",
     "start_time": "2021-05-25T00:40:16.185455Z"
    }
   },
   "outputs": [
    {
     "data": {
      "text/plain": [
       "False"
      ]
     },
     "execution_count": 4,
     "metadata": {},
     "output_type": "execute_result"
    }
   ],
   "source": [
    "2 <1"
   ]
  },
  {
   "cell_type": "code",
   "execution_count": 5,
   "id": "958b504a",
   "metadata": {
    "ExecuteTime": {
     "end_time": "2021-05-25T00:40:26.058661Z",
     "start_time": "2021-05-25T00:40:26.046669Z"
    }
   },
   "outputs": [
    {
     "data": {
      "text/plain": [
       "False"
      ]
     },
     "execution_count": 5,
     "metadata": {},
     "output_type": "execute_result"
    }
   ],
   "source": [
    "0 ==1"
   ]
  },
  {
   "cell_type": "code",
   "execution_count": 27,
   "id": "30dffb0d",
   "metadata": {
    "ExecuteTime": {
     "end_time": "2021-05-25T00:45:05.812393Z",
     "start_time": "2021-05-25T00:45:05.806381Z"
    }
   },
   "outputs": [
    {
     "data": {
      "text/plain": [
       "True"
      ]
     },
     "execution_count": 27,
     "metadata": {},
     "output_type": "execute_result"
    }
   ],
   "source": [
    "bool(\"none\")"
   ]
  },
  {
   "cell_type": "code",
   "execution_count": 35,
   "id": "a690d5e9",
   "metadata": {
    "ExecuteTime": {
     "end_time": "2021-05-25T00:46:59.005139Z",
     "start_time": "2021-05-25T00:46:58.995145Z"
    }
   },
   "outputs": [
    {
     "ename": "SyntaxError",
     "evalue": "invalid syntax (<ipython-input-35-cd303fa08807>, line 3)",
     "output_type": "error",
     "traceback": [
      "\u001b[1;36m  File \u001b[1;32m\"<ipython-input-35-cd303fa08807>\"\u001b[1;36m, line \u001b[1;32m3\u001b[0m\n\u001b[1;33m    else:\u001b[0m\n\u001b[1;37m       ^\u001b[0m\n\u001b[1;31mSyntaxError\u001b[0m\u001b[1;31m:\u001b[0m invalid syntax\n"
     ]
    }
   ],
   "source": [
    "if \"ddd\" :\n",
    "    print(3)\n",
    "    else:\n",
    "    print(5)\n"
   ]
  },
  {
   "cell_type": "code",
   "execution_count": 33,
   "id": "f1093942",
   "metadata": {
    "ExecuteTime": {
     "end_time": "2021-05-25T00:46:52.189825Z",
     "start_time": "2021-05-25T00:46:52.183849Z"
    }
   },
   "outputs": [
    {
     "data": {
      "text/plain": [
       "float"
      ]
     },
     "execution_count": 33,
     "metadata": {},
     "output_type": "execute_result"
    }
   ],
   "source": [
    "pi = 3.141592\n",
    "type (pi)"
   ]
  },
  {
   "cell_type": "code",
   "execution_count": 29,
   "id": "d1af312d",
   "metadata": {
    "ExecuteTime": {
     "end_time": "2021-05-25T00:46:09.925003Z",
     "start_time": "2021-05-25T00:46:09.921024Z"
    }
   },
   "outputs": [
    {
     "data": {
      "text/plain": [
       "str"
      ]
     },
     "execution_count": 29,
     "metadata": {},
     "output_type": "execute_result"
    }
   ],
   "source": [
    "message = \"Good morning\"\n",
    "type(message)\n"
   ]
  },
  {
   "cell_type": "code",
   "execution_count": 37,
   "id": "32ab9df3",
   "metadata": {
    "ExecuteTime": {
     "end_time": "2021-05-25T05:16:50.790876Z",
     "start_time": "2021-05-25T05:16:50.780881Z"
    }
   },
   "outputs": [
    {
     "name": "stdout",
     "output_type": "stream",
     "text": [
      "1\n",
      "1\n",
      "2\n",
      "1\n",
      "1\n",
      "2\n",
      "1\n",
      "1\n",
      "2\n",
      "1\n",
      "1\n",
      "2\n",
      "1\n",
      "1\n",
      "2\n"
     ]
    }
   ],
   "source": [
    "for i in range(10):\n",
    "    print('1')\n",
    "    if i%2 == 0:\n",
    "        continue\n",
    "    print('2')"
   ]
  },
  {
   "cell_type": "code",
   "execution_count": 43,
   "id": "10baf7ae",
   "metadata": {
    "ExecuteTime": {
     "end_time": "2021-05-25T05:30:27.216238Z",
     "start_time": "2021-05-25T05:30:27.209221Z"
    }
   },
   "outputs": [
    {
     "name": "stdout",
     "output_type": "stream",
     "text": [
      "<class 'str'>\n"
     ]
    }
   ],
   "source": [
    "a = type(\"abc\")\n",
    "print (a)\n"
   ]
  },
  {
   "cell_type": "code",
   "execution_count": 48,
   "id": "440892df",
   "metadata": {
    "ExecuteTime": {
     "end_time": "2021-05-25T05:55:24.371376Z",
     "start_time": "2021-05-25T05:55:24.364380Z"
    }
   },
   "outputs": [],
   "source": [
    "\n",
    "def two_plus(c,d):\n",
    "    return c+d\n",
    "\n",
    "\n",
    "    "
   ]
  },
  {
   "cell_type": "code",
   "execution_count": null,
   "id": "f29af70f",
   "metadata": {},
   "outputs": [],
   "source": []
  }
 ],
 "metadata": {
  "hide_input": false,
  "kernelspec": {
   "display_name": "Python 3",
   "language": "python",
   "name": "python3"
  },
  "language_info": {
   "codemirror_mode": {
    "name": "ipython",
    "version": 3
   },
   "file_extension": ".py",
   "mimetype": "text/x-python",
   "name": "python",
   "nbconvert_exporter": "python",
   "pygments_lexer": "ipython3",
   "version": "3.7.9"
  },
  "toc": {
   "base_numbering": 1,
   "nav_menu": {},
   "number_sections": true,
   "sideBar": true,
   "skip_h1_title": false,
   "title_cell": "Table of Contents",
   "title_sidebar": "Contents",
   "toc_cell": false,
   "toc_position": {},
   "toc_section_display": true,
   "toc_window_display": false
  },
  "varInspector": {
   "cols": {
    "lenName": 16,
    "lenType": 16,
    "lenVar": 40
   },
   "kernels_config": {
    "python": {
     "delete_cmd_postfix": "",
     "delete_cmd_prefix": "del ",
     "library": "var_list.py",
     "varRefreshCmd": "print(var_dic_list())"
    },
    "r": {
     "delete_cmd_postfix": ") ",
     "delete_cmd_prefix": "rm(",
     "library": "var_list.r",
     "varRefreshCmd": "cat(var_dic_list()) "
    }
   },
   "types_to_exclude": [
    "module",
    "function",
    "builtin_function_or_method",
    "instance",
    "_Feature"
   ],
   "window_display": false
  }
 },
 "nbformat": 4,
 "nbformat_minor": 5
}
